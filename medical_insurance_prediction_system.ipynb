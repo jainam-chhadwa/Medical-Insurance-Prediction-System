{
 "cells": [
  {
   "cell_type": "markdown",
   "metadata": {},
   "source": [
    "# Medical Insurance Prediction System"
   ]
  },
  {
   "cell_type": "markdown",
   "metadata": {},
   "source": [
    "## Importing Modules"
   ]
  },
  {
   "cell_type": "code",
   "execution_count": 1,
   "metadata": {},
   "outputs": [],
   "source": [
    "import numpy as np\n",
    "import matplotlib.pyplot as plt\n",
    "import pandas as pd\n",
    "import seaborn as sns\n"
   ]
  },
  {
   "cell_type": "markdown",
   "metadata": {},
   "source": [
    "## Reading CSV File of Medical Insurance"
   ]
  },
  {
   "cell_type": "code",
   "execution_count": 2,
   "metadata": {},
   "outputs": [
    {
     "data": {
      "text/html": [
       "<div>\n",
       "<style scoped>\n",
       "    .dataframe tbody tr th:only-of-type {\n",
       "        vertical-align: middle;\n",
       "    }\n",
       "\n",
       "    .dataframe tbody tr th {\n",
       "        vertical-align: top;\n",
       "    }\n",
       "\n",
       "    .dataframe thead th {\n",
       "        text-align: right;\n",
       "    }\n",
       "</style>\n",
       "<table border=\"1\" class=\"dataframe\">\n",
       "  <thead>\n",
       "    <tr style=\"text-align: right;\">\n",
       "      <th></th>\n",
       "      <th>age</th>\n",
       "      <th>sex</th>\n",
       "      <th>bmi</th>\n",
       "      <th>children</th>\n",
       "      <th>smoker</th>\n",
       "      <th>region</th>\n",
       "      <th>charges</th>\n",
       "    </tr>\n",
       "  </thead>\n",
       "  <tbody>\n",
       "    <tr>\n",
       "      <th>0</th>\n",
       "      <td>19</td>\n",
       "      <td>female</td>\n",
       "      <td>27.900</td>\n",
       "      <td>0</td>\n",
       "      <td>yes</td>\n",
       "      <td>southwest</td>\n",
       "      <td>16884.92400</td>\n",
       "    </tr>\n",
       "    <tr>\n",
       "      <th>1</th>\n",
       "      <td>18</td>\n",
       "      <td>male</td>\n",
       "      <td>33.770</td>\n",
       "      <td>1</td>\n",
       "      <td>no</td>\n",
       "      <td>southeast</td>\n",
       "      <td>1725.55230</td>\n",
       "    </tr>\n",
       "    <tr>\n",
       "      <th>2</th>\n",
       "      <td>28</td>\n",
       "      <td>male</td>\n",
       "      <td>33.000</td>\n",
       "      <td>3</td>\n",
       "      <td>no</td>\n",
       "      <td>southeast</td>\n",
       "      <td>4449.46200</td>\n",
       "    </tr>\n",
       "    <tr>\n",
       "      <th>3</th>\n",
       "      <td>33</td>\n",
       "      <td>male</td>\n",
       "      <td>22.705</td>\n",
       "      <td>0</td>\n",
       "      <td>no</td>\n",
       "      <td>northwest</td>\n",
       "      <td>21984.47061</td>\n",
       "    </tr>\n",
       "    <tr>\n",
       "      <th>4</th>\n",
       "      <td>32</td>\n",
       "      <td>male</td>\n",
       "      <td>28.880</td>\n",
       "      <td>0</td>\n",
       "      <td>no</td>\n",
       "      <td>northwest</td>\n",
       "      <td>3866.85520</td>\n",
       "    </tr>\n",
       "  </tbody>\n",
       "</table>\n",
       "</div>"
      ],
      "text/plain": [
       "   age     sex     bmi  children smoker     region      charges\n",
       "0   19  female  27.900         0    yes  southwest  16884.92400\n",
       "1   18    male  33.770         1     no  southeast   1725.55230\n",
       "2   28    male  33.000         3     no  southeast   4449.46200\n",
       "3   33    male  22.705         0     no  northwest  21984.47061\n",
       "4   32    male  28.880         0     no  northwest   3866.85520"
      ]
     },
     "execution_count": 2,
     "metadata": {},
     "output_type": "execute_result"
    }
   ],
   "source": [
    "df=pd.read_csv('insurance (2).csv')\n",
    "df.head()"
   ]
  },
  {
   "cell_type": "markdown",
   "metadata": {},
   "source": [
    "## Checking for Null Values"
   ]
  },
  {
   "cell_type": "code",
   "execution_count": 3,
   "metadata": {},
   "outputs": [
    {
     "data": {
      "text/plain": [
       "age         0\n",
       "sex         0\n",
       "bmi         0\n",
       "children    0\n",
       "smoker      0\n",
       "region      0\n",
       "charges     0\n",
       "dtype: int64"
      ]
     },
     "execution_count": 3,
     "metadata": {},
     "output_type": "execute_result"
    }
   ],
   "source": [
    "df.isnull().sum()"
   ]
  },
  {
   "cell_type": "markdown",
   "metadata": {},
   "source": [
    "## Density plot graph "
   ]
  },
  {
   "cell_type": "code",
   "execution_count": 4,
   "metadata": {},
   "outputs": [
    {
     "data": {
      "text/plain": [
       "<AxesSubplot:ylabel='Density'>"
      ]
     },
     "execution_count": 4,
     "metadata": {},
     "output_type": "execute_result"
    },
    {
     "data": {
      "image/png": "[encoded data removed]",
      "text/plain": [
       "<Figure size 432x288 with 1 Axes>"
      ]
     },
     "metadata": {
      "needs_background": "light"
     },
     "output_type": "display_data"
    }
   ],
   "source": [
    "df['charges'].plot.kde()"
   ]
  },
  {
   "cell_type": "markdown",
   "metadata": {},
   "source": [
    "## Box plot Charges vs Smoker"
   ]
  },
  {
   "cell_type": "code",
   "execution_count": 5,
   "metadata": {},
   "outputs": [
    {
     "data": {
      "text/plain": [
       "<AxesSubplot:xlabel='smoker', ylabel='charges'>"
      ]
     },
     "execution_count": 5,
     "metadata": {},
     "output_type": "execute_result"
    },
    {
     "data": {
      "image/png": "[encoded data removed]",
      "text/plain": [
       "<Figure size 432x288 with 1 Axes>"
      ]
     },
     "metadata": {
      "needs_background": "light"
     },
     "output_type": "display_data"
    }
   ],
   "source": [
    "sns.boxplot(x=df['smoker'],y=df['charges'])"
   ]
  },
  {
   "cell_type": "markdown",
   "metadata": {},
   "source": [
    "## Box plot Charges vs Region"
   ]
  },
  {
   "cell_type": "code",
   "execution_count": 6,
   "metadata": {},
   "outputs": [
    {
     "data": {
      "text/plain": [
       "<AxesSubplot:xlabel='region', ylabel='charges'>"
      ]
     },
     "execution_count": 6,
     "metadata": {},
     "output_type": "execute_result"
    },
    {
     "data": {
      "image/png": "[encoded data removed]",
      "text/plain": [
       "<Figure size 432x288 with 1 Axes>"
      ]
     },
     "metadata": {
      "needs_background": "light"
     },
     "output_type": "display_data"
    }
   ],
   "source": [
    "sns.boxplot(x=df['region'],y=df['charges'])"
   ]
  },
  {
   "cell_type": "markdown",
   "metadata": {},
   "source": [
    "## Box plot Charges vs Region"
   ]
  },
  {
   "cell_type": "code",
   "execution_count": 7,
   "metadata": {},
   "outputs": [
    {
     "data": {
      "text/plain": [
       "<AxesSubplot:xlabel='children', ylabel='charges'>"
      ]
     },
     "execution_count": 7,
     "metadata": {},
     "output_type": "execute_result"
    },
    {
     "data": {
      "image/png": "[encoded data removed]",
      "text/plain": [
       "<Figure size 432x288 with 1 Axes>"
      ]
     },
     "metadata": {
      "needs_background": "light"
     },
     "output_type": "display_data"
    }
   ],
   "source": [
    "sns.boxplot(x=df['children'],y=df['charges'])\n"
   ]
  },
  {
   "cell_type": "markdown",
   "metadata": {},
   "source": [
    "## Mean cost analysys:"
   ]
  },
  {
   "cell_type": "code",
   "execution_count": 8,
   "metadata": {},
   "outputs": [
    {
     "name": "stdout",
     "output_type": "stream",
     "text": [
      "Mean cost analysys:\n"
     ]
    },
    {
     "data": {
      "image/png": "[encoded data removed]",
      "text/plain": [
       "<Figure size 432x288 with 1 Axes>"
      ]
     },
     "metadata": {
      "needs_background": "light"
     },
     "output_type": "display_data"
    },
    {
     "data": {
      "image/png": "[encoded data removed]",
      "text/plain": [
       "<Figure size 432x288 with 1 Axes>"
      ]
     },
     "metadata": {
      "needs_background": "light"
     },
     "output_type": "display_data"
    },
    {
     "data": {
      "image/png": "[encoded data removed]",
      "text/plain": [
       "<Figure size 432x288 with 1 Axes>"
      ]
     },
     "metadata": {
      "needs_background": "light"
     },
     "output_type": "display_data"
    },
    {
     "data": {
      "image/png": "[encoded data removed]",
      "text/plain": [
       "<Figure size 432x288 with 1 Axes>"
      ]
     },
     "metadata": {
      "needs_background": "light"
     },
     "output_type": "display_data"
    }
   ],
   "source": [
    "variables = ['sex','smoker','region','children']\n",
    "print('Mean cost analysys:')\n",
    "for v in variables:\n",
    "    group_df = df.groupby(pd.Grouper(key=v)).mean()\n",
    "    group_df = group_df.sort_index()\n",
    "    group_df.plot(y = ['charges'],kind = 'bar')\n",
    "    plt.show()"
   ]
  },
  {
   "cell_type": "markdown",
   "metadata": {},
   "source": [
    "## Data distribution analysys"
   ]
  },
  {
   "cell_type": "code",
   "execution_count": 9,
   "metadata": {},
   "outputs": [
    {
     "data": {
      "image/png": "[encoded data removed]",
      "text/plain": [
       "<Figure size 432x288 with 1 Axes>"
      ]
     },
     "metadata": {
      "needs_background": "light"
     },
     "output_type": "display_data"
    },
    {
     "data": {
      "image/png": "[encoded data removed]",
      "text/plain": [
       "<Figure size 432x288 with 1 Axes>"
      ]
     },
     "metadata": {
      "needs_background": "light"
     },
     "output_type": "display_data"
    },
    {
     "data": {
      "image/png": "[encoded data removed]",
      "text/plain": [
       "<Figure size 432x288 with 1 Axes>"
      ]
     },
     "metadata": {
      "needs_background": "light"
     },
     "output_type": "display_data"
    },
    {
     "data": {
      "image/png": "[encoded data removed]",
      "text/plain": [
       "<Figure size 432x288 with 1 Axes>"
      ]
     },
     "metadata": {
      "needs_background": "light"
     },
     "output_type": "display_data"
    }
   ],
   "source": [
    "for x in variables:\n",
    "    df[x].value_counts().sort_values(ascending=False).plot(kind = 'bar')\n",
    "    plt.title(x)\n",
    "    plt.show()"
   ]
  },
  {
   "cell_type": "markdown",
   "metadata": {},
   "source": [
    "## Data pre-processing"
   ]
  },
  {
   "cell_type": "markdown",
   "metadata": {},
   "source": [
    "## Importing Label Encoder "
   ]
  },
  {
   "cell_type": "code",
   "execution_count": 10,
   "metadata": {},
   "outputs": [],
   "source": [
    "from sklearn.preprocessing import LabelEncoder\n",
    "number=LabelEncoder()"
   ]
  },
  {
   "cell_type": "code",
   "execution_count": 11,
   "metadata": {},
   "outputs": [],
   "source": [
    "df.sex=number.fit_transform(df.sex)\n",
    "df.smoker=number.fit_transform(df.smoker)\n",
    "df.region=number.fit_transform(df.region)"
   ]
  },
  {
   "cell_type": "markdown",
   "metadata": {},
   "source": [
    "## Spliting Data into X and y"
   ]
  },
  {
   "cell_type": "code",
   "execution_count": 12,
   "metadata": {},
   "outputs": [],
   "source": [
    "X = df.iloc[:, :-1].values\n",
    "y = df.iloc[:, -1].values\n"
   ]
  },
  {
   "cell_type": "markdown",
   "metadata": {},
   "source": [
    "## Spliting into Train and Test sets"
   ]
  },
  {
   "cell_type": "code",
   "execution_count": 13,
   "metadata": {},
   "outputs": [
    {
     "data": {
      "text/plain": [
       "array([ 9724.53    ,  8547.6913  , 45702.02235 , 12950.0712  ,\n",
       "        9644.2525  ,  4500.33925 ,  2198.18985 , 11436.73815 ,\n",
       "        7537.1639  ,  5425.02335 ,  6753.038   , 10493.9458  ,\n",
       "        7337.748   ,  4185.0979  , 18310.742   , 10702.6424  ,\n",
       "       12523.6048  ,  3490.5491  ,  6457.8434  , 33475.81715 ,\n",
       "       23967.38305 , 12643.3778  , 23045.56616 , 23065.4207  ,\n",
       "        1674.6323  ,  4667.60765 ,  3732.6251  ,  7682.67    ,\n",
       "        3756.6216  ,  8413.46305 ,  8059.6791  , 48970.2476  ,\n",
       "       12979.358   , 20630.28351 , 14571.8908  ,  4137.5227  ,\n",
       "        8347.1643  , 51194.55914 , 40003.33225 ,  1880.487   ,\n",
       "        5458.04645 ,  2867.1196  , 20149.3229  , 47496.49445 ,\n",
       "       36149.4835  , 26018.95052 , 19749.38338 ,  6940.90985 ,\n",
       "        4718.20355 , 22192.43711 ,  2899.48935 , 18838.70366 ,\n",
       "       23568.272   , 46255.1125  , 24227.33724 ,  3268.84665 ,\n",
       "        2322.6218  ,  8827.2099  , 14478.33015 , 13112.6048  ,\n",
       "        1253.936   , 46718.16325 , 13919.8229  ,  9630.397   ,\n",
       "       10736.87075 ,  9880.068   , 32548.3405  , 38746.3551  ,\n",
       "        3180.5101  ,  8162.71625 , 13041.921   , 11554.2236  ,\n",
       "       16232.847   , 13887.9685  , 13012.20865 , 13217.0945  ,\n",
       "        7147.105   ,  7731.4271  , 20296.86345 , 47403.88    ,\n",
       "       11658.37915 , 45863.205   ,  2055.3249  ,  7441.053   ,\n",
       "       41034.2214  , 18972.495   ,  3410.324   ,  2699.56835 ,\n",
       "       12333.828   , 36837.467   ,  6334.34355 , 10214.636   ,\n",
       "       17878.90068 ,  8515.7587  ,  4518.82625 ,  5148.5526  ,\n",
       "       42303.69215 , 38998.546   ,  5327.40025 , 10602.385   ,\n",
       "        1824.2854  ,  5377.4578  ,  4349.462   , 37742.5757  ,\n",
       "       32787.45859 ,  3353.4703  , 10577.087   ,  3556.9223  ,\n",
       "       11944.59435 , 52590.82939 , 12475.3513  ,  4266.1658  ,\n",
       "        9249.4952  , 33732.6867  , 48675.5177  ,  7729.64575 ,\n",
       "        1964.78    ,  8444.474   , 12347.172   ,  9301.89355 ,\n",
       "       42124.5153  ,  9991.03765 , 14319.031   ,  5428.7277  ,\n",
       "        7626.993   ,  4906.40965 , 23401.30575 , 21098.55405 ,\n",
       "       48173.361   ,  1917.3184  ,  8219.2039  ,  1725.5523  ,\n",
       "        5976.8311  ,  9361.3268  , 22144.032   , 35491.64    ,\n",
       "       19515.5416  , 10107.2206  , 23244.7902  ,  2789.0574  ,\n",
       "        2261.5688  , 10594.50155 ,  9304.7019  , 10435.06525 ,\n",
       "        4894.7533  , 14313.8463  , 28287.89766 , 14426.07385 ,\n",
       "        1627.28245 , 25517.11363 ,  6555.07035 , 39611.7577  ,\n",
       "        9964.06    ,  1720.3537  ,  2730.10785 ,  6500.2359  ,\n",
       "        2643.2685  ,  1719.4363  , 11085.5868  , 10115.00885 ,\n",
       "        4846.92015 , 12982.8747  , 28923.13692 ,  9391.346   ,\n",
       "        4544.2348  , 17128.42608 , 13844.506   ,  6113.23105 ,\n",
       "        4441.21315 ,  1633.9618  ,  4058.71245 ,  4435.0942  ,\n",
       "        8310.83915 ,  1986.9334  ,  4260.744   ,  4504.6624  ,\n",
       "        4428.88785 ,  6117.4945  , 30184.9367  ,  1708.92575 ,\n",
       "       11187.6567  ,  6796.86325 , 11356.6609  ,  2498.4144  ,\n",
       "       27375.90478 , 28101.33305 ,  2254.7967  ,  2597.779   ,\n",
       "       14692.66935 , 10370.91255 , 41097.16175 ,  3981.9768  ,\n",
       "        5472.449   , 21223.6758  ,  2534.39375 ,  1972.95    ,\n",
       "        6406.4107  ,  6551.7501  ,  4058.1161  ,  4243.59005 ,\n",
       "       11512.405   , 46889.2612  , 12268.63225 , 19199.944   ,\n",
       "        4433.3877  , 42969.8527  , 23241.47453 ,  9140.951   ,\n",
       "        5836.5204  ,  1149.3959  ,  8765.249   , 14043.4767  ,\n",
       "        5312.16985 , 10795.93733 ,  6282.235   ,  1969.614   ,\n",
       "        6746.7425  ,  5354.07465 , 14001.2867  ,  6877.9801  ,\n",
       "        6196.448   ,  7986.47525 ,  8277.523   ,  3206.49135 ,\n",
       "       11848.141   , 14210.53595 , 12265.5069  , 11837.16    ,\n",
       "        6652.5288  ,  2137.6536  ,  1131.5066  ,  8342.90875 ,\n",
       "       12244.531   ,  4561.1885  , 17626.23951 ,  6875.961   ,\n",
       "        9447.3824  , 34254.05335 ,  6067.12675 , 11729.6795  ,\n",
       "        5383.536   , 37465.34375 ,  7371.772   ,  7325.0482  ,\n",
       "        8410.04685 , 10461.9794  ,  3279.86855 ,  7727.2532  ,\n",
       "        2731.9122  ,  6858.4796  , 19521.9682  , 47305.305   ,\n",
       "        3987.926   ,  3238.4357  ,  7323.734819,  1704.5681  ,\n",
       "        7445.918   ,  1629.8335  ,  4877.98105 ,  3561.8889  ,\n",
       "        8605.3615  , 24520.264   , 45710.20785 , 15019.76005 ,\n",
       "        6664.68595 , 20709.02034 , 40932.4295  ,  9500.57305 ])"
      ]
     },
     "execution_count": 13,
     "metadata": {},
     "output_type": "execute_result"
    }
   ],
   "source": [
    "from sklearn.model_selection import train_test_split\n",
    "X_train,X_test,y_train,y_test=train_test_split(X,y,test_size=0.2,random_state=0)\n",
    "y_test"
   ]
  },
  {
   "cell_type": "markdown",
   "metadata": {},
   "source": [
    "## Training Multiple Linear regression on training set"
   ]
  },
  {
   "cell_type": "code",
   "execution_count": 14,
   "metadata": {},
   "outputs": [
    {
     "data": {
      "text/plain": [
       "LinearRegression()"
      ]
     },
     "execution_count": 14,
     "metadata": {},
     "output_type": "execute_result"
    }
   ],
   "source": [
    "from sklearn.linear_model import LinearRegression\n",
    "model = LinearRegression()\n",
    "model.fit(X_train,y_train)"
   ]
  },
  {
   "cell_type": "markdown",
   "metadata": {},
   "source": [
    "## Predicting the Test set results"
   ]
  },
  {
   "cell_type": "code",
   "execution_count": 15,
   "metadata": {},
   "outputs": [
    {
     "name": "stdout",
     "output_type": "stream",
     "text": [
      "[[ 1.10e+04  9.72e+03]\n",
      " [ 9.79e+03  8.55e+03]\n",
      " [ 3.80e+04  4.57e+04]\n",
      " [ 1.61e+04  1.30e+04]\n",
      " [ 6.93e+03  9.64e+03]\n",
      " [ 3.97e+03  4.50e+03]\n",
      " [ 1.55e+03  2.20e+03]\n",
      " [ 1.43e+04  1.14e+04]\n",
      " [ 8.95e+03  7.54e+03]\n",
      " [ 7.43e+03  5.43e+03]\n",
      " [ 4.54e+03  6.75e+03]\n",
      " [ 1.02e+04  1.05e+04]\n",
      " [ 8.66e+03  7.34e+03]\n",
      " [ 4.13e+03  4.19e+03]\n",
      " [ 2.78e+04  1.83e+04]\n",
      " [ 1.10e+04  1.07e+04]\n",
      " [ 1.13e+04  1.25e+04]\n",
      " [ 6.03e+03  3.49e+03]\n",
      " [ 8.17e+03  6.46e+03]\n",
      " [ 2.70e+04  3.35e+04]\n",
      " [ 3.36e+04  2.40e+04]\n",
      " [ 1.43e+04  1.26e+04]\n",
      " [ 1.17e+04  2.30e+04]\n",
      " [ 3.24e+04  2.31e+04]\n",
      " [ 4.41e+03  1.67e+03]\n",
      " [ 9.15e+03  4.67e+03]\n",
      " [ 1.13e+03  3.73e+03]\n",
      " [ 1.01e+04  7.68e+03]\n",
      " [ 4.09e+03  3.76e+03]\n",
      " [ 1.04e+04  8.41e+03]\n",
      " [ 8.96e+03  8.06e+03]\n",
      " [ 4.02e+04  4.90e+04]\n",
      " [ 1.55e+04  1.30e+04]\n",
      " [ 1.37e+04  2.06e+04]\n",
      " [ 2.47e+04  1.46e+04]\n",
      " [ 5.13e+03  4.14e+03]\n",
      " [ 1.28e+04  8.35e+03]\n",
      " [ 3.05e+04  5.12e+04]\n",
      " [ 3.34e+04  4.00e+04]\n",
      " [ 3.49e+03  1.88e+03]\n",
      " [ 4.00e+03  5.46e+03]\n",
      " [ 4.28e+03  2.87e+03]\n",
      " [ 3.05e+04  2.01e+04]\n",
      " [ 3.93e+04  4.75e+04]\n",
      " [ 2.80e+04  3.61e+04]\n",
      " [ 5.00e+03  2.60e+04]\n",
      " [ 1.09e+04  1.97e+04]\n",
      " [ 7.78e+03  6.94e+03]\n",
      " [ 3.61e+03  4.72e+03]\n",
      " [ 1.06e+04  2.22e+04]\n",
      " [ 5.63e+03  2.90e+03]\n",
      " [ 3.38e+03  1.88e+04]\n",
      " [ 3.28e+04  2.36e+04]\n",
      " [ 3.84e+04  4.63e+04]\n",
      " [ 1.63e+04  2.42e+04]\n",
      " [ 7.06e+03  3.27e+03]\n",
      " [ 5.97e+03  2.32e+03]\n",
      " [ 9.40e+03  8.83e+03]\n",
      " [ 9.26e+03  1.45e+04]\n",
      " [ 1.17e+04  1.31e+04]\n",
      " [ 1.70e+03  1.25e+03]\n",
      " [ 3.88e+04  4.67e+04]\n",
      " [ 1.52e+04  1.39e+04]\n",
      " [ 1.16e+04  9.63e+03]\n",
      " [ 1.40e+04  1.07e+04]\n",
      " [ 1.38e+04  9.88e+03]\n",
      " [ 2.61e+04  3.25e+04]\n",
      " [ 3.21e+04  3.87e+04]\n",
      " [ 1.17e+03  3.18e+03]\n",
      " [ 1.01e+04  8.16e+03]\n",
      " [ 1.22e+04  1.30e+04]\n",
      " [ 1.18e+04  1.16e+04]\n",
      " [ 2.51e+04  1.62e+04]\n",
      " [ 1.59e+04  1.39e+04]\n",
      " [ 1.12e+04  1.30e+04]\n",
      " [ 1.26e+04  1.32e+04]\n",
      " [ 6.46e+03  7.15e+03]\n",
      " [ 9.88e+03  7.73e+03]\n",
      " [ 3.01e+04  2.03e+04]\n",
      " [ 3.89e+04  4.74e+04]\n",
      " [ 1.20e+04  1.17e+04]\n",
      " [ 3.74e+04  4.59e+04]\n",
      " [ 4.16e+03  2.06e+03]\n",
      " [ 9.24e+03  7.44e+03]\n",
      " [ 3.47e+04  4.10e+04]\n",
      " [ 2.91e+04  1.90e+04]\n",
      " [ 8.44e+03  3.41e+03]\n",
      " [ 4.83e+03  2.70e+03]\n",
      " [ 1.19e+04  1.23e+04]\n",
      " [ 3.02e+04  3.68e+04]\n",
      " [ 1.00e+04  6.33e+03]\n",
      " [ 1.12e+04  1.02e+04]\n",
      " [ 8.26e+03  1.79e+04]\n",
      " [ 9.22e+03  8.52e+03]\n",
      " [ 8.34e+03  4.52e+03]\n",
      " [ 7.27e+03  5.15e+03]\n",
      " [ 3.59e+04  4.23e+04]\n",
      " [ 3.30e+04  3.90e+04]\n",
      " [ 7.57e+03  5.33e+03]\n",
      " [ 1.49e+04  1.06e+04]\n",
      " [ 4.27e+03  1.82e+03]\n",
      " [ 8.72e+03  5.38e+03]\n",
      " [ 6.60e+03  4.35e+03]\n",
      " [ 3.18e+04  3.77e+04]\n",
      " [ 3.29e+04  3.28e+04]\n",
      " [ 1.96e+03  3.35e+03]\n",
      " [ 8.93e+03  1.06e+04]\n",
      " [ 6.58e+03  3.56e+03]\n",
      " [ 1.45e+04  1.19e+04]\n",
      " [ 3.70e+04  5.26e+04]\n",
      " [ 1.01e+04  1.25e+04]\n",
      " [ 1.08e+04  4.27e+03]\n",
      " [ 1.02e+04  9.25e+03]\n",
      " [ 2.69e+04  3.37e+04]\n",
      " [ 4.01e+04  4.87e+04]\n",
      " [ 8.45e+03  7.73e+03]\n",
      " [ 1.97e+02  1.96e+03]\n",
      " [ 8.88e+03  8.44e+03]\n",
      " [ 1.51e+04  1.23e+04]\n",
      " [ 9.49e+03  9.30e+03]\n",
      " [ 3.54e+04  4.21e+04]\n",
      " [ 7.28e+03  9.99e+03]\n",
      " [ 1.68e+04  1.43e+04]\n",
      " [ 9.56e+03  5.43e+03]\n",
      " [ 8.12e+03  7.63e+03]\n",
      " [ 2.95e+03  4.91e+03]\n",
      " [ 3.29e+04  2.34e+04]\n",
      " [ 3.14e+04  2.11e+04]\n",
      " [ 3.94e+04  4.82e+04]\n",
      " [ 5.46e+03  1.92e+03]\n",
      " [ 9.61e+03  8.22e+03]\n",
      " [ 3.84e+03  1.73e+03]\n",
      " [ 7.94e+03  5.98e+03]\n",
      " [ 8.63e+03  9.36e+03]\n",
      " [ 3.15e+04  2.21e+04]\n",
      " [ 2.98e+04  3.55e+04]\n",
      " [ 3.01e+04  1.95e+04]\n",
      " [ 9.08e+03  1.01e+04]\n",
      " [ 3.27e+04  2.32e+04]\n",
      " [ 3.30e+03  2.79e+03]\n",
      " [ 3.61e+03  2.26e+03]\n",
      " [ 1.11e+04  1.06e+04]\n",
      " [ 1.34e+04  9.30e+03]\n",
      " [ 1.28e+04  1.04e+04]\n",
      " [ 5.40e+03  4.89e+03]\n",
      " [ 1.58e+04  1.43e+04]\n",
      " [ 1.52e+04  2.83e+04]\n",
      " [ 2.39e+03  1.44e+04]\n",
      " [-4.57e+00  1.63e+03]\n",
      " [ 1.08e+04  2.55e+04]\n",
      " [ 7.39e+03  6.56e+03]\n",
      " [ 3.20e+04  3.96e+04]\n",
      " [ 1.23e+04  9.96e+03]\n",
      " [ 2.61e+03  1.72e+03]\n",
      " [ 6.33e+03  2.73e+03]\n",
      " [ 8.15e+03  6.50e+03]\n",
      " [ 4.35e+03  2.64e+03]\n",
      " [ 2.40e+03  1.72e+03]\n",
      " [ 1.13e+04  1.11e+04]\n",
      " [ 1.25e+04  1.01e+04]\n",
      " [ 7.20e+03  4.85e+03]\n",
      " [ 1.66e+04  1.30e+04]\n",
      " [ 1.18e+04  2.89e+04]\n",
      " [ 1.39e+04  9.39e+03]\n",
      " [ 3.20e+03  4.54e+03]\n",
      " [ 7.23e+03  1.71e+04]\n",
      " [ 2.30e+04  1.38e+04]\n",
      " [ 7.56e+03  6.11e+03]\n",
      " [ 5.46e+03  4.44e+03]\n",
      " [ 5.41e+03  1.63e+03]\n",
      " [ 6.66e+03  4.06e+03]\n",
      " [ 5.17e+03  4.44e+03]\n",
      " [ 9.94e+03  8.31e+03]\n",
      " [ 5.61e+03  1.99e+03]\n",
      " [ 5.59e+03  4.26e+03]\n",
      " [ 6.92e+03  4.50e+03]\n",
      " [ 3.71e+03  4.43e+03]\n",
      " [ 5.55e+03  6.12e+03]\n",
      " [ 3.80e+04  3.02e+04]\n",
      " [ 1.47e+03  1.71e+03]\n",
      " [ 1.26e+04  1.12e+04]\n",
      " [ 8.89e+03  6.80e+03]\n",
      " [ 1.37e+04  1.14e+04]\n",
      " [ 5.65e+03  2.50e+03]\n",
      " [ 5.20e+03  2.74e+04]\n",
      " [ 3.64e+04  2.81e+04]\n",
      " [ 4.32e+03  2.25e+03]\n",
      " [ 1.92e+03  2.60e+03]\n",
      " [ 1.51e+04  1.47e+04]\n",
      " [ 1.26e+04  1.04e+04]\n",
      " [ 3.50e+04  4.11e+04]\n",
      " [ 5.08e+03  3.98e+03]\n",
      " [ 5.57e+03  5.47e+03]\n",
      " [ 3.15e+04  2.12e+04]\n",
      " [ 6.07e+03  2.53e+03]\n",
      " [ 2.02e+03  1.97e+03]\n",
      " [ 8.40e+03  6.41e+03]\n",
      " [ 9.97e+03  6.55e+03]\n",
      " [ 8.24e+03  4.06e+03]\n",
      " [ 5.73e+03  4.24e+03]\n",
      " [ 1.31e+04  1.15e+04]\n",
      " [ 3.87e+04  4.69e+04]\n",
      " [ 1.37e+04  1.23e+04]\n",
      " [ 2.87e+04  1.92e+04]\n",
      " [ 6.70e+03  4.43e+03]\n",
      " [ 3.57e+04  4.30e+04]\n",
      " [ 3.76e+03  2.32e+04]\n",
      " [ 1.21e+04  9.14e+03]\n",
      " [ 9.31e+03  5.84e+03]\n",
      " [ 6.43e+03  1.15e+03]\n",
      " [ 1.13e+04  8.77e+03]\n",
      " [ 1.45e+04  1.40e+04]\n",
      " [ 5.13e+03  5.31e+03]\n",
      " [ 4.28e+03  1.08e+04]\n",
      " [ 7.76e+03  6.28e+03]\n",
      " [ 1.23e+03  1.97e+03]\n",
      " [ 7.84e+03  6.75e+03]\n",
      " [ 4.43e+03  5.35e+03]\n",
      " [ 1.32e+04  1.40e+04]\n",
      " [ 4.30e+03  6.88e+03]\n",
      " [ 9.92e+03  6.20e+03]\n",
      " [ 7.22e+03  7.99e+03]\n",
      " [ 9.15e+03  8.28e+03]\n",
      " [ 2.39e+03  3.21e+03]\n",
      " [ 1.31e+04  1.18e+04]\n",
      " [ 1.67e+04  1.42e+04]\n",
      " [ 1.52e+04  1.23e+04]\n",
      " [ 1.05e+04  1.18e+04]\n",
      " [ 5.66e+03  6.65e+03]\n",
      " [ 2.54e+03  2.14e+03]\n",
      " [ 2.21e+03  1.13e+03]\n",
      " [ 1.34e+04  8.34e+03]\n",
      " [ 1.43e+04  1.22e+04]\n",
      " [ 4.98e+03  4.56e+03]\n",
      " [ 4.10e+03  1.76e+04]\n",
      " [ 9.32e+03  6.88e+03]\n",
      " [ 9.96e+03  9.45e+03]\n",
      " [ 2.82e+04  3.43e+04]\n",
      " [ 7.61e+03  6.07e+03]\n",
      " [ 1.05e+04  1.17e+04]\n",
      " [ 6.19e+03  5.38e+03]\n",
      " [ 2.97e+04  3.75e+04]\n",
      " [ 1.10e+04  7.37e+03]\n",
      " [ 7.50e+03  7.33e+03]\n",
      " [ 1.02e+04  8.41e+03]\n",
      " [ 1.22e+04  1.05e+04]\n",
      " [ 2.99e+03  3.28e+03]\n",
      " [ 1.08e+04  7.73e+03]\n",
      " [ 1.54e+03  2.73e+03]\n",
      " [ 7.03e+03  6.86e+03]\n",
      " [ 2.87e+04  1.95e+04]\n",
      " [ 3.85e+04  4.73e+04]\n",
      " [ 6.20e+03  3.99e+03]\n",
      " [ 8.39e+03  3.24e+03]\n",
      " [ 2.49e+03  7.32e+03]\n",
      " [ 4.36e+02  1.70e+03]\n",
      " [ 1.04e+04  7.45e+03]\n",
      " [ 4.43e+03  1.63e+03]\n",
      " [ 4.92e+03  4.88e+03]\n",
      " [ 2.68e+03  3.56e+03]\n",
      " [ 7.18e+03  8.61e+03]\n",
      " [ 3.32e+04  2.45e+04]\n",
      " [ 3.81e+04  4.57e+04]\n",
      " [ 1.47e+04  1.50e+04]\n",
      " [ 8.21e+03  6.66e+03]\n",
      " [ 1.60e+04  2.07e+04]\n",
      " [ 3.31e+04  4.09e+04]\n",
      " [ 9.47e+03  9.50e+03]]\n"
     ]
    }
   ],
   "source": [
    "y_pred=model.predict(X_test)\n",
    "np.set_printoptions(precision=2)\n",
    "print(np.concatenate((y_pred.reshape(len(y_pred),1),y_test.reshape(len(y_test),1)),1))"
   ]
  },
  {
   "cell_type": "markdown",
   "metadata": {},
   "source": [
    "## Prediction"
   ]
  },
  {
   "cell_type": "code",
   "execution_count": 16,
   "metadata": {},
   "outputs": [
    {
     "name": "stdout",
     "output_type": "stream",
     "text": [
      "Enter Age=32\n",
      "---------------------\n",
      "Sex:\n",
      " Enter 1 for Male \n",
      " Enter 0 for Female\n",
      "Enter your Sex=1\n",
      "---------------------\n",
      "Enter your Body Mass Index= 29\n",
      "---------------------\n",
      "Enter number of Children= 2\n",
      "---------------------\n",
      "Smoker:\n",
      " Enter 1 for Smoker\n",
      " Enter 0 for Non-Smoker\n",
      "Are you smoker or not?=0\n",
      "---------------------\n",
      "Region:\n",
      " Enter 1 for northwest \n",
      " Enter 2 for southeast\n",
      " Enter 3 for southwest\n",
      " Enter 4 for northeast \n",
      "Enter your region= 3\n",
      "---------------------\n",
      "Estimateprice of Insurance is $[5987.04]\n"
     ]
    }
   ],
   "source": [
    "age=int(input('Enter Age='))\n",
    "print('---------------------')\n",
    "\n",
    "print('Sex:\\n Enter 1 for Male \\n Enter 0 for Female')\n",
    "\n",
    "sex=int(input('Enter your Sex='))\n",
    "print('---------------------')\n",
    "\n",
    "\n",
    "\n",
    "bmi=float(input('Enter your Body Mass Index= '))\n",
    "print('---------------------')\n",
    "\n",
    "children=int(input('Enter number of Children= '))\n",
    "print('---------------------')\n",
    "\n",
    "print('Smoker:\\n Enter 1 for Smoker\\n Enter 0 for Non-Smoker')\n",
    "smoker=int(input('Are you smoker or not?='))\n",
    "\n",
    "print('---------------------')\n",
    "print('Region:\\n Enter 1 for northwest \\n Enter 2 for southeast\\n Enter 3 for southwest\\n Enter 4 for northeast ')\n",
    "region=int(input('Enter your region= '))\n",
    "print('---------------------')\n",
    "\n",
    "print(f\"Estimateprice of Insurance is ${model.predict([[age,sex,bmi,children,smoker,region]])}\")"
   ]
  },
  {
   "cell_type": "markdown",
   "metadata": {},
   "source": [
    "## Accuracy/MAE/R2 score"
   ]
  },
  {
   "cell_type": "code",
   "execution_count": 17,
   "metadata": {},
   "outputs": [
    {
     "name": "stdout",
     "output_type": "stream",
     "text": [
      "MAE=  3930.3332739011444\n",
      "RMSE=  5643.219748880902\n",
      "R2 score= 0.7998747145449959\n"
     ]
    }
   ],
   "source": [
    "from sklearn import metrics\n",
    "print(\"MAE= \",metrics.mean_absolute_error(y_test,y_pred))\n",
    "print(\"RMSE= \",np.sqrt(metrics.mean_squared_error(y_test,y_pred)))\n",
    "print(\"R2 score=\",metrics.r2_score(y_test,y_pred))"
   ]
  }
 ],
 "metadata": {
  "kernelspec": {
   "display_name": "Python 3",
   "language": "python",
   "name": "python3"
  },
  "language_info": {
   "codemirror_mode": {
    "name": "ipython",
    "version": 3
   },
   "file_extension": ".py",
   "mimetype": "text/x-python",
   "name": "python",
   "nbconvert_exporter": "python",
   "pygments_lexer": "ipython3",
   "version": "3.8.5"
  }
 },
 "nbformat": 4,
 "nbformat_minor": 4
}
